{
 "cells": [
  {
   "cell_type": "markdown",
   "metadata": {},
   "source": [
    "# DiploDatos Kaggle Competition"
   ]
  },
  {
   "cell_type": "markdown",
   "metadata": {},
   "source": [
    "Presentamos un código creado como ejemplo de base para la competición.\n",
    "\n",
    "Deben:\n",
    "\n",
    "- Explorar los datos y aprender de ellos.\n",
    "- Probar diferentes modelos y ver cuáles ajustan mejor dado los datos.\n",
    "- **Obtener una accuracy mejor que la que se presenta en este ejemplo.**\n",
    "- Tratar de obtener la accuracy más alta posible!\n",
    "- Discutir la elección de modelo.\n",
    "\n",
    "El análisis exploratorio y el preprocesamiento de los datos queda a libertad de cada grupo y no deben quedarse con este simple ejemplo."
   ]
  },
  {
   "cell_type": "code",
   "execution_count": 39,
   "metadata": {},
   "outputs": [],
   "source": [
    "import pandas as pd\n",
    "import numpy as np\n",
    "import matplotlib.pyplot as plt\n",
    "import seaborn as sns\n",
    "\n",
    "from sklearn.preprocessing import StandardScaler, LabelEncoder, OneHotEncoder\n",
    "from sklearn.impute import SimpleImputer\n",
    "from sklearn.model_selection import train_test_split, GridSearchCV, StratifiedKFold\n",
    "from sklearn.metrics import accuracy_score, ConfusionMatrixDisplay, classification_report\n",
    "#import mlutils\n",
    "from sklearn.tree import DecisionTreeClassifier\n",
    "from sklearn import svm"
   ]
  },
  {
   "cell_type": "markdown",
   "metadata": {},
   "source": [
    "## Leer el dataset"
   ]
  },
  {
   "cell_type": "markdown",
   "metadata": {},
   "source": [
    "### Train\n",
    "\n",
    "Datos de entrenamiento: este data set (df_completo) será dividido en datos de entrenamiento y datos de testeo para entrenar el modelo de predicción."
   ]
  },
  {
   "cell_type": "markdown",
   "metadata": {},
   "source": [
    "Cargamos los datos de entrenamiento que vamos a utilizar para generar nuestro modelo. "
   ]
  },
  {
   "cell_type": "code",
   "execution_count": 4,
   "metadata": {},
   "outputs": [],
   "source": [
    "# URL del archivo .csv en el repositorio de GitHub\n",
    "#Cargamos archivo de entrenamiento\n",
    "url = \"https://raw.githubusercontent.com/DiploDatos/AprendizajeSupervisado/master/Pr%C3%A1ctico/diabetes_prediction_dataset_train-labeled.csv\"\n",
    "\n",
    "# Leer el archivo .csv desde la URL\n",
    "df_completo = pd.read_csv(url) #Tiene el archivo de entrenamiento\n",
    "\n",
    "# Mostrar las primeras filas del DataFrame\n"
   ]
  },
  {
   "cell_type": "code",
   "execution_count": 5,
   "metadata": {},
   "outputs": [
    {
     "name": "stdout",
     "output_type": "stream",
     "text": [
      "(95000, 10)\n"
     ]
    }
   ],
   "source": [
    "print(df_completo.shape)\n"
   ]
  },
  {
   "cell_type": "code",
   "execution_count": 6,
   "metadata": {},
   "outputs": [
    {
     "data": {
      "text/html": [
       "<div>\n",
       "<style scoped>\n",
       "    .dataframe tbody tr th:only-of-type {\n",
       "        vertical-align: middle;\n",
       "    }\n",
       "\n",
       "    .dataframe tbody tr th {\n",
       "        vertical-align: top;\n",
       "    }\n",
       "\n",
       "    .dataframe thead th {\n",
       "        text-align: right;\n",
       "    }\n",
       "</style>\n",
       "<table border=\"1\" class=\"dataframe\">\n",
       "  <thead>\n",
       "    <tr style=\"text-align: right;\">\n",
       "      <th></th>\n",
       "      <th>patient</th>\n",
       "      <th>gender</th>\n",
       "      <th>age</th>\n",
       "      <th>hypertension</th>\n",
       "      <th>heart_disease</th>\n",
       "      <th>smoking_history</th>\n",
       "      <th>bmi</th>\n",
       "      <th>HbA1c_level</th>\n",
       "      <th>blood_glucose_level</th>\n",
       "      <th>diabetes</th>\n",
       "    </tr>\n",
       "  </thead>\n",
       "  <tbody>\n",
       "    <tr>\n",
       "      <th>0</th>\n",
       "      <td>20432</td>\n",
       "      <td>Male</td>\n",
       "      <td>4.0</td>\n",
       "      <td>0</td>\n",
       "      <td>0</td>\n",
       "      <td>never</td>\n",
       "      <td>19.28</td>\n",
       "      <td>3.5</td>\n",
       "      <td>155</td>\n",
       "      <td>0</td>\n",
       "    </tr>\n",
       "    <tr>\n",
       "      <th>1</th>\n",
       "      <td>49682</td>\n",
       "      <td>Female</td>\n",
       "      <td>50.0</td>\n",
       "      <td>0</td>\n",
       "      <td>0</td>\n",
       "      <td>former</td>\n",
       "      <td>27.32</td>\n",
       "      <td>5.7</td>\n",
       "      <td>159</td>\n",
       "      <td>0</td>\n",
       "    </tr>\n",
       "    <tr>\n",
       "      <th>2</th>\n",
       "      <td>73886</td>\n",
       "      <td>Female</td>\n",
       "      <td>43.0</td>\n",
       "      <td>0</td>\n",
       "      <td>0</td>\n",
       "      <td>never</td>\n",
       "      <td>21.54</td>\n",
       "      <td>4.5</td>\n",
       "      <td>145</td>\n",
       "      <td>0</td>\n",
       "    </tr>\n",
       "    <tr>\n",
       "      <th>3</th>\n",
       "      <td>53144</td>\n",
       "      <td>Male</td>\n",
       "      <td>64.0</td>\n",
       "      <td>0</td>\n",
       "      <td>0</td>\n",
       "      <td>current</td>\n",
       "      <td>28.22</td>\n",
       "      <td>6.0</td>\n",
       "      <td>130</td>\n",
       "      <td>0</td>\n",
       "    </tr>\n",
       "    <tr>\n",
       "      <th>4</th>\n",
       "      <td>98507</td>\n",
       "      <td>Male</td>\n",
       "      <td>10.0</td>\n",
       "      <td>0</td>\n",
       "      <td>0</td>\n",
       "      <td>No Info</td>\n",
       "      <td>15.46</td>\n",
       "      <td>6.1</td>\n",
       "      <td>140</td>\n",
       "      <td>0</td>\n",
       "    </tr>\n",
       "  </tbody>\n",
       "</table>\n",
       "</div>"
      ],
      "text/plain": [
       "   patient  gender   age  hypertension  heart_disease smoking_history    bmi  \\\n",
       "0    20432    Male   4.0             0              0           never  19.28   \n",
       "1    49682  Female  50.0             0              0          former  27.32   \n",
       "2    73886  Female  43.0             0              0           never  21.54   \n",
       "3    53144    Male  64.0             0              0         current  28.22   \n",
       "4    98507    Male  10.0             0              0         No Info  15.46   \n",
       "\n",
       "   HbA1c_level  blood_glucose_level  diabetes  \n",
       "0          3.5                  155         0  \n",
       "1          5.7                  159         0  \n",
       "2          4.5                  145         0  \n",
       "3          6.0                  130         0  \n",
       "4          6.1                  140         0  "
      ]
     },
     "execution_count": 6,
     "metadata": {},
     "output_type": "execute_result"
    }
   ],
   "source": [
    "df_completo.head()"
   ]
  },
  {
   "cell_type": "code",
   "execution_count": 7,
   "metadata": {},
   "outputs": [
    {
     "name": "stdout",
     "output_type": "stream",
     "text": [
      "<class 'pandas.core.frame.DataFrame'>\n",
      "RangeIndex: 95000 entries, 0 to 94999\n",
      "Data columns (total 10 columns):\n",
      " #   Column               Non-Null Count  Dtype  \n",
      "---  ------               --------------  -----  \n",
      " 0   patient              95000 non-null  int64  \n",
      " 1   gender               95000 non-null  object \n",
      " 2   age                  95000 non-null  float64\n",
      " 3   hypertension         95000 non-null  int64  \n",
      " 4   heart_disease        95000 non-null  int64  \n",
      " 5   smoking_history      95000 non-null  object \n",
      " 6   bmi                  95000 non-null  float64\n",
      " 7   HbA1c_level          95000 non-null  float64\n",
      " 8   blood_glucose_level  95000 non-null  int64  \n",
      " 9   diabetes             95000 non-null  int64  \n",
      "dtypes: float64(3), int64(5), object(2)\n",
      "memory usage: 7.2+ MB\n"
     ]
    }
   ],
   "source": [
    "df_completo.info()"
   ]
  },
  {
   "cell_type": "markdown",
   "metadata": {},
   "source": [
    "**Descripción de las variables del datsa set**\n",
    "\n",
    "Contamos con un total de 9 features y la variable objetivo: *diabetes*.\n",
    "\n",
    "Dentro de las variables independientes tenemos 2 features categóricas y 7 features numéricas. Las mismas se definen de la siguiente manera:\n",
    "\n",
    "- patient: id del paciente.\n",
    "\n",
    "- gender: Se refiere al sexo biológico del individuo, que puede tener un impacto en su susceptibilidad a la diabetes. En él se distinguen tres categorías: masculino, femenino y otro.\n",
    "\n",
    "- age: La edad es un factor importante, ya que la diabetes se diagnostica con más frecuencia en adultos mayores.\n",
    "\n",
    "- hypertension: es una condición médica en la que la presión sanguínea en las arterias es persistentemente elevada. Tiene valores a 0 o 1 donde 0 indica que no tienen hipertensión y 1 significa que tienen hipertensión.\n",
    "\n",
    "- heart_disease: otra condición médica que se asocia con un mayor riesgo de desarrollar diabetes. Tiene valores a 0 o 1 donde 0 indica que no tienen enfermedad cardiaca y para 1 significa que tienen enfermedad cardiaca.\n",
    "\n",
    "- smoking_history: historial de tabaquismo. Se considera un factor de riesgo para la diabetes y puede agravar las complicaciones asociadas a la diabetes. Cuenta con 5 categorías: no actual, anterior, sin información, actual, nunca y alguna vez.\n",
    "\n",
    "- bmi: Índice de Masa Corporal, es una medida de la grasa corporal basada en el peso y la estatura. Los valores más altos de bmi están relacionados con un mayor riesgo de diabetes. El intervalo del bmi en el conjunto de datos va de 10,16 a 71,55. Un bmi inferior a 18,5 es bajo peso, de 18,5 a 24,9 es normal, de 25 a 29,9 es sobrepeso y 30 o más es obesidad.\n",
    "\n",
    "- HbA1c_level: Hemoglobina A1c, es una medida del nivel medio de azúcar en sangre de una persona en los últimos 2-3 meses. Los niveles más altos indican un mayor riesgo de desarrollar diabetes. En la mayoría de los casos, un nivel de HbA1c superior al 6,5% indica diabetes.\n",
    "\n",
    "- blood_glucose_level: nivel de glucosa en sangre. Se refiere a la cantidad de glucosa en el torrente sanguíneo en un momento dado. Los niveles altos de glucosa en sangre son un indicador clave de diabetes.\n",
    "\n",
    "- diabetes: es la variable objetivo que se predice, con valores de 1 que indican la presencia de diabetes y 0 que indican la ausencia de diabetes.\n"
   ]
  },
  {
   "cell_type": "markdown",
   "metadata": {},
   "source": [
    "**Valores faltanes**\n",
    "\n",
    "Buscamos valores faltantes en las variables del dataset."
   ]
  },
  {
   "cell_type": "code",
   "execution_count": 8,
   "metadata": {},
   "outputs": [
    {
     "name": "stdout",
     "output_type": "stream",
     "text": [
      "Series([], dtype: int64)\n"
     ]
    }
   ],
   "source": [
    "# Calcular el número de valores faltantes por columna\n",
    "valores_faltantes = df_completo.isnull().sum()\n",
    "\n",
    "# Filtrar las columnas que tienen al menos un valor faltante\n",
    "columnas_con_faltantes = valores_faltantes[valores_faltantes > 0]\n",
    "\n",
    "print(columnas_con_faltantes)"
   ]
  },
  {
   "cell_type": "markdown",
   "metadata": {},
   "source": [
    "No contamos con valores faltantes en el data frame."
   ]
  },
  {
   "cell_type": "markdown",
   "metadata": {},
   "source": [
    "### Análisis de la distribución de cada feature"
   ]
  },
  {
   "cell_type": "code",
   "execution_count": 9,
   "metadata": {},
   "outputs": [],
   "source": [
    "# Definimos 2 conjuntos segun variables numéricas y categóricas:\n",
    "SampleColumns_cat = ['gender', 'smoking_history']\n",
    "\n",
    "SampleColumns_num = ['patient', 'age', 'hypertension', 'heart_disease',\n",
    "       'bmi', 'HbA1c_level', 'blood_glucose_level','diabetes']"
   ]
  },
  {
   "cell_type": "markdown",
   "metadata": {},
   "source": [
    "**Análisis features categóricas**\n",
    "\n",
    "Realizamos histogramas de las variables categóricas para observar la frecuencia de cada valor."
   ]
  },
  {
   "cell_type": "code",
   "execution_count": 10,
   "metadata": {},
   "outputs": [
    {
     "data": {
      "image/png": "[encoded data removed]",
      "text/plain": [
       "<Figure size 1440x360 with 2 Axes>"
      ]
     },
     "metadata": {
      "needs_background": "light"
     },
     "output_type": "display_data"
    }
   ],
   "source": [
    "#Veamos histogramas de variables categoricas\n",
    "fig, axes = plt.subplots(nrows=1, ncols=2, figsize=(20, 5))\n",
    "\n",
    "for ax, column in zip(axes, SampleColumns_cat):\n",
    "    num_bins = df_completo[column].nunique()  # Determinar el número de bins basado en valores únicos\n",
    "    #if column == 'columna_3':  # Ajustar el número de bins específicamente para una columna\n",
    "        #num_bins = 15  # Aquí especificas el número de bins que quieres para 'columna_3'\n",
    "    ax.hist(df_completo[column], bins=num_bins, color='blue', edgecolor='black')\n",
    "    ax.set_title(f'Histograma de {column}')\n",
    "    ax.set_xlabel(column)\n",
    "    ax.set_ylabel('Frecuencia')\n",
    "    ax.grid(True)\n",
    "\n",
    "# Ajustar el layout para evitar superposiciones\n",
    "plt.xticks(rotation = 45, fontsize=5)\n",
    "plt.tight_layout()\n",
    "plt.show()"
   ]
  },
  {
   "cell_type": "markdown",
   "metadata": {},
   "source": [
    "**Análisis features numéricas**\n",
    "\n",
    "Al igual que con las categoricas, observamos la distribución para el caso de variables númericas."
   ]
  },
  {
   "cell_type": "code",
   "execution_count": 11,
   "metadata": {},
   "outputs": [
    {
     "data": {
      "image/png": "[encoded data removed]",
      "text/plain": [
       "<Figure size 1440x720 with 8 Axes>"
      ]
     },
     "metadata": {
      "needs_background": "light"
     },
     "output_type": "display_data"
    }
   ],
   "source": [
    "# Crear una figura con un diseño de 2 filas y 4 columnas\n",
    "fig, axes = plt.subplots(nrows=2, ncols=4, figsize=(20, 10))\n",
    "\n",
    "# Aplanar la matriz de ejes para poder iterar fácilmente\n",
    "axes = axes.flatten()\n",
    "\n",
    "# Iterar sobre las columnas y los ejes para crear los histogramas\n",
    "for i, col in enumerate(SampleColumns_num):\n",
    "    df_completo[col].plot(kind='hist', ax=axes[i], title=col, bins=30)\n",
    "    axes[i].set_xlabel(col)\n",
    "\n",
    "# Ajustar el layout para que no haya solapamiento\n",
    "plt.tight_layout()\n",
    "plt.show()"
   ]
  },
  {
   "cell_type": "markdown",
   "metadata": {},
   "source": [
    "**Descripción de los histogramas**\n",
    "A partir de los graficos anteriores concluimos:\n",
    "\n",
    "- patient: como es un identificador del paciente, tiene sentido que tenga una distribución homogenea. No será utilizado como variable predictiva.\n",
    "\n",
    "- hypertension y heart_disease: presentan un desbalance notorio entre las clases. Para evitar su influencia en el modelo serán correctamente tratadas (estandarización).\n",
    "\n",
    "- diabetes: la variable target presenta un gran desbalance. Esto si puede influenciar mucho en la predicción del modelo por lo que habrá que tenerlo en cuenta para la elección de los modelos o para su entrenamiento.\n",
    "\n",
    "- En cuanto a las variables categóricas, las mismas serán \"encodeadas\"."
   ]
  },
  {
   "cell_type": "code",
   "execution_count": 12,
   "metadata": {},
   "outputs": [
    {
     "data": {
      "text/plain": [
       "Index(['patient', 'gender', 'age', 'hypertension', 'heart_disease',\n",
       "       'smoking_history', 'bmi', 'HbA1c_level', 'blood_glucose_level',\n",
       "       'diabetes'],\n",
       "      dtype='object')"
      ]
     },
     "execution_count": 12,
     "metadata": {},
     "output_type": "execute_result"
    }
   ],
   "source": [
    "df_completo.columns"
   ]
  },
  {
   "cell_type": "code",
   "execution_count": 13,
   "metadata": {},
   "outputs": [
    {
     "data": {
      "image/png": "[encoded data removed]",
      "text/plain": [
       "<Figure size 1728x864 with 8 Axes>"
      ]
     },
     "metadata": {
      "needs_background": "light"
     },
     "output_type": "display_data"
    }
   ],
   "source": [
    "# Columna fija\n",
    "fixed_column = 'diabetes'\n",
    "# Lista de columnas seleccionadas\n",
    "selected_columns = ['gender', 'age', 'hypertension', 'heart_disease', 'smoking_history',\n",
    "       'bmi', 'HbA1c_level', 'blood_glucose_level']\n",
    "\n",
    "# Crear una figura con subplots organizados en 2 filas y 4 columnas\n",
    "fig, axes = plt.subplots(nrows=2, ncols=4, figsize=(24, 12))\n",
    "\n",
    "# Iterar sobre las columnas seleccionadas y hacer un scatter plot en cada subplot\n",
    "for i, column in enumerate(selected_columns):\n",
    "    row = i // 4  # Calcular la fila (0 o 1)\n",
    "    col = i % 4   # Calcular la columna (0, 1, 2 o 3)\n",
    "    \n",
    "    axes[row, col].scatter(df_completo[column], df_completo[fixed_column], alpha=0.5)\n",
    "    axes[row, col].set_title(f'Scatter plot entre {fixed_column} y {column}')\n",
    "    axes[row, col].set_xlabel(column)\n",
    "    axes[row, col].set_ylabel(fixed_column)\n",
    "    axes[row, col].set_ylim(0, 1)  # Para poder visualizar la tendencia\n",
    "    axes[row, col].grid(True)\n",
    "\n",
    "# Ajustar espaciado entre subplots\n",
    "plt.tight_layout()\n",
    "plt.show()"
   ]
  },
  {
   "cell_type": "markdown",
   "metadata": {},
   "source": [
    "## División en datos de entrenamiento y testeo \n",
    "\n",
    "Dividimos el df_completo en datos de entrenamiento (df_train) y datos de testeo (df_test). Es necesario hacer esto previo al encoding y estadarización para evitar el data leakage."
   ]
  },
  {
   "cell_type": "code",
   "execution_count": 14,
   "metadata": {},
   "outputs": [],
   "source": [
    "# Guardamos la columna patient en una variable separada y la eliminamos del data frame.\n",
    "patientId = df_completo.patient\n",
    "df_completo.drop('patient',axis=1,inplace=True)"
   ]
  },
  {
   "cell_type": "code",
   "execution_count": 15,
   "metadata": {},
   "outputs": [],
   "source": [
    "# Definimos variables de entrenamiento\n",
    "X = df_completo.drop(['diabetes'],axis=1)\n",
    "y = df_completo['diabetes']\n",
    "\n",
    "X_train, X_test, y_train, y_test = train_test_split(X, y, test_size=0.3, random_state=42)\n"
   ]
  },
  {
   "cell_type": "markdown",
   "metadata": {},
   "source": [
    "**Encoding variables categóricas** "
   ]
  },
  {
   "cell_type": "code",
   "execution_count": 16,
   "metadata": {},
   "outputs": [],
   "source": [
    "# Crear una instancia de OneHotEncoder\n",
    "ohe = OneHotEncoder(sparse=False, handle_unknown='ignore')\n",
    "\n",
    "# Ajustar y transformar el DataFrame diferencian en train y test\n",
    "encoded = ohe.fit_transform(X_train[['gender', 'smoking_history']])\n",
    "encoded_test = ohe.transform(X_test[['gender', 'smoking_history']])"
   ]
  },
  {
   "cell_type": "code",
   "execution_count": 17,
   "metadata": {},
   "outputs": [
    {
     "name": "stdout",
     "output_type": "stream",
     "text": [
      "\n",
      "DataFrame codificado:\n",
      "       gender_Female  gender_Male  gender_Other  smoking_history_No Info  \\\n",
      "0                1.0          0.0           0.0                      0.0   \n",
      "1                0.0          1.0           0.0                      0.0   \n",
      "2                1.0          0.0           0.0                      0.0   \n",
      "3                1.0          0.0           0.0                      1.0   \n",
      "4                0.0          1.0           0.0                      0.0   \n",
      "...              ...          ...           ...                      ...   \n",
      "28495            0.0          1.0           0.0                      0.0   \n",
      "28496            1.0          0.0           0.0                      1.0   \n",
      "28497            0.0          1.0           0.0                      0.0   \n",
      "28498            1.0          0.0           0.0                      1.0   \n",
      "28499            1.0          0.0           0.0                      0.0   \n",
      "\n",
      "       smoking_history_current  smoking_history_ever  smoking_history_former  \\\n",
      "0                          0.0                   0.0                     0.0   \n",
      "1                          0.0                   0.0                     0.0   \n",
      "2                          0.0                   0.0                     0.0   \n",
      "3                          0.0                   0.0                     0.0   \n",
      "4                          0.0                   0.0                     0.0   \n",
      "...                        ...                   ...                     ...   \n",
      "28495                      0.0                   0.0                     0.0   \n",
      "28496                      0.0                   0.0                     0.0   \n",
      "28497                      0.0                   0.0                     0.0   \n",
      "28498                      0.0                   0.0                     0.0   \n",
      "28499                      0.0                   0.0                     0.0   \n",
      "\n",
      "       smoking_history_never  smoking_history_not current  \n",
      "0                        1.0                          0.0  \n",
      "1                        1.0                          0.0  \n",
      "2                        1.0                          0.0  \n",
      "3                        0.0                          0.0  \n",
      "4                        0.0                          1.0  \n",
      "...                      ...                          ...  \n",
      "28495                    1.0                          0.0  \n",
      "28496                    0.0                          0.0  \n",
      "28497                    1.0                          0.0  \n",
      "28498                    0.0                          0.0  \n",
      "28499                    1.0                          0.0  \n",
      "\n",
      "[28500 rows x 9 columns]\n"
     ]
    }
   ],
   "source": [
    "# Convertir el resultado a un DataFrame\n",
    "df_train_cat = pd.DataFrame(encoded, columns=ohe.get_feature_names_out(['gender', 'smoking_history']))\n",
    "df_test_cat = pd.DataFrame(encoded_test, columns=ohe.get_feature_names_out(['gender', 'smoking_history']))\n",
    "print(\"\\nDataFrame codificado:\")\n",
    "print(df_test_cat)"
   ]
  },
  {
   "cell_type": "markdown",
   "metadata": {},
   "source": [
    "Como resultado tenemos dos data frames (df_train_cat y df_test_cat) con las variables categóricas encodeadas. Creamos un dta frame de variables númericas, eliminando las categoricas sin encodear para realizar la estandarización.\n",
    "\n",
    "Una vez hecho esto concatenaremos los data frame (categoricas encodeadas y númericas estandarizadas)."
   ]
  },
  {
   "cell_type": "code",
   "execution_count": 18,
   "metadata": {},
   "outputs": [],
   "source": [
    "# Data frame de variables numéricas\n",
    "\n",
    "df_test_num = X_test.drop([\"gender\",\"smoking_history\"], axis=1)\n",
    "\n",
    "df_train_num = X_train.drop([\"gender\",\"smoking_history\"], axis=1)"
   ]
  },
  {
   "cell_type": "markdown",
   "metadata": {},
   "source": [
    "**Estandarización variables numéricas**\n",
    "\n",
    "Estandarizamos aquellas variables que no tienen como categoria 0 o 1. Tampoco estandarizamos variables categoricas encodeadas."
   ]
  },
  {
   "cell_type": "code",
   "execution_count": 19,
   "metadata": {},
   "outputs": [],
   "source": [
    "# Crear una instancia de StandardScaler\n",
    "scaler = StandardScaler()\n",
    "\n",
    "# Columnas a estandarizar\n",
    "cols_to_scale = ['age', 'bmi', 'HbA1c_level','blood_glucose_level']\n",
    "\n",
    "# Ajustar el scaler solo con las columnas seleccionadas\n",
    "scaler.fit(df_train_num[cols_to_scale])\n",
    "\n",
    "# Transformar solo las columnas seleccionadas y reemplazar en el DataFrame\n",
    "df_train_num[cols_to_scale] = scaler.transform(df_train_num[cols_to_scale])\n",
    "df_test_num[cols_to_scale] = scaler.transform(df_test_num[cols_to_scale])\n"
   ]
  },
  {
   "cell_type": "code",
   "execution_count": 20,
   "metadata": {},
   "outputs": [
    {
     "data": {
      "image/png": "[encoded data removed]",
      "text/plain": [
       "<Figure size 1440x720 with 6 Axes>"
      ]
     },
     "metadata": {
      "needs_background": "light"
     },
     "output_type": "display_data"
    }
   ],
   "source": [
    "# Crear una figura con un diseño de 2 filas y 4 columnas\n",
    "fig, axes = plt.subplots(nrows=2, ncols=3, figsize=(20, 10))\n",
    "\n",
    "# Aplanar la matriz de ejes para poder iterar fácilmente\n",
    "axes = axes.flatten()\n",
    "\n",
    "# Iterar sobre las columnas y los ejes para crear los histogramas\n",
    "for i, col in enumerate(df_train_num.columns):\n",
    "    df_train_num[col].plot(kind='hist', ax=axes[i], title=col, bins=30)\n",
    "    axes[i].set_xlabel(col)\n",
    "\n",
    "# Ajustar el layout para que no haya solapamiento\n",
    "plt.tight_layout()\n",
    "plt.show()"
   ]
  },
  {
   "cell_type": "markdown",
   "metadata": {},
   "source": [
    "Creamos los data frame de entrenamiento y testeo con variables categoricas encodeadas y variables númericas estandarizadas (salvo las binarias). Este data set será el utilizado para entrenar los modelos y compararlos."
   ]
  },
  {
   "cell_type": "code",
   "execution_count": 21,
   "metadata": {},
   "outputs": [
    {
     "data": {
      "text/html": [
       "<div>\n",
       "<style scoped>\n",
       "    .dataframe tbody tr th:only-of-type {\n",
       "        vertical-align: middle;\n",
       "    }\n",
       "\n",
       "    .dataframe tbody tr th {\n",
       "        vertical-align: top;\n",
       "    }\n",
       "\n",
       "    .dataframe thead th {\n",
       "        text-align: right;\n",
       "    }\n",
       "</style>\n",
       "<table border=\"1\" class=\"dataframe\">\n",
       "  <thead>\n",
       "    <tr style=\"text-align: right;\">\n",
       "      <th></th>\n",
       "      <th>age</th>\n",
       "      <th>hypertension</th>\n",
       "      <th>heart_disease</th>\n",
       "      <th>bmi</th>\n",
       "      <th>HbA1c_level</th>\n",
       "      <th>blood_glucose_level</th>\n",
       "    </tr>\n",
       "  </thead>\n",
       "  <tbody>\n",
       "    <tr>\n",
       "      <th>43450</th>\n",
       "      <td>-1.020674</td>\n",
       "      <td>0</td>\n",
       "      <td>0</td>\n",
       "      <td>-0.277978</td>\n",
       "      <td>-0.678379</td>\n",
       "      <td>-0.299509</td>\n",
       "    </tr>\n",
       "    <tr>\n",
       "      <th>14791</th>\n",
       "      <td>1.243165</td>\n",
       "      <td>1</td>\n",
       "      <td>0</td>\n",
       "      <td>-0.294577</td>\n",
       "      <td>2.490333</td>\n",
       "      <td>-0.201360</td>\n",
       "    </tr>\n",
       "    <tr>\n",
       "      <th>28617</th>\n",
       "      <td>0.177829</td>\n",
       "      <td>0</td>\n",
       "      <td>0</td>\n",
       "      <td>1.339715</td>\n",
       "      <td>0.160398</td>\n",
       "      <td>-1.182848</td>\n",
       "    </tr>\n",
       "    <tr>\n",
       "      <th>60875</th>\n",
       "      <td>1.420721</td>\n",
       "      <td>0</td>\n",
       "      <td>0</td>\n",
       "      <td>0.589721</td>\n",
       "      <td>0.253595</td>\n",
       "      <td>2.497732</td>\n",
       "    </tr>\n",
       "    <tr>\n",
       "      <th>50419</th>\n",
       "      <td>1.376332</td>\n",
       "      <td>1</td>\n",
       "      <td>0</td>\n",
       "      <td>0.425236</td>\n",
       "      <td>0.905977</td>\n",
       "      <td>-0.299509</td>\n",
       "    </tr>\n",
       "    <tr>\n",
       "      <th>...</th>\n",
       "      <td>...</td>\n",
       "      <td>...</td>\n",
       "      <td>...</td>\n",
       "      <td>...</td>\n",
       "      <td>...</td>\n",
       "      <td>...</td>\n",
       "    </tr>\n",
       "    <tr>\n",
       "      <th>73425</th>\n",
       "      <td>0.888053</td>\n",
       "      <td>0</td>\n",
       "      <td>1</td>\n",
       "      <td>0.072120</td>\n",
       "      <td>0.999175</td>\n",
       "      <td>0.044012</td>\n",
       "    </tr>\n",
       "    <tr>\n",
       "      <th>26488</th>\n",
       "      <td>-1.065063</td>\n",
       "      <td>0</td>\n",
       "      <td>0</td>\n",
       "      <td>0.001195</td>\n",
       "      <td>-1.423959</td>\n",
       "      <td>0.485682</td>\n",
       "    </tr>\n",
       "    <tr>\n",
       "      <th>31539</th>\n",
       "      <td>-0.177283</td>\n",
       "      <td>0</td>\n",
       "      <td>0</td>\n",
       "      <td>0.001195</td>\n",
       "      <td>-0.678379</td>\n",
       "      <td>-1.305534</td>\n",
       "    </tr>\n",
       "    <tr>\n",
       "      <th>13711</th>\n",
       "      <td>1.642666</td>\n",
       "      <td>0</td>\n",
       "      <td>0</td>\n",
       "      <td>0.939819</td>\n",
       "      <td>0.626385</td>\n",
       "      <td>1.516244</td>\n",
       "    </tr>\n",
       "    <tr>\n",
       "      <th>328</th>\n",
       "      <td>-0.044116</td>\n",
       "      <td>0</td>\n",
       "      <td>0</td>\n",
       "      <td>1.561544</td>\n",
       "      <td>0.905977</td>\n",
       "      <td>0.044012</td>\n",
       "    </tr>\n",
       "  </tbody>\n",
       "</table>\n",
       "<p>28500 rows × 6 columns</p>\n",
       "</div>"
      ],
      "text/plain": [
       "            age  hypertension  heart_disease       bmi  HbA1c_level  \\\n",
       "43450 -1.020674             0              0 -0.277978    -0.678379   \n",
       "14791  1.243165             1              0 -0.294577     2.490333   \n",
       "28617  0.177829             0              0  1.339715     0.160398   \n",
       "60875  1.420721             0              0  0.589721     0.253595   \n",
       "50419  1.376332             1              0  0.425236     0.905977   \n",
       "...         ...           ...            ...       ...          ...   \n",
       "73425  0.888053             0              1  0.072120     0.999175   \n",
       "26488 -1.065063             0              0  0.001195    -1.423959   \n",
       "31539 -0.177283             0              0  0.001195    -0.678379   \n",
       "13711  1.642666             0              0  0.939819     0.626385   \n",
       "328   -0.044116             0              0  1.561544     0.905977   \n",
       "\n",
       "       blood_glucose_level  \n",
       "43450            -0.299509  \n",
       "14791            -0.201360  \n",
       "28617            -1.182848  \n",
       "60875             2.497732  \n",
       "50419            -0.299509  \n",
       "...                    ...  \n",
       "73425             0.044012  \n",
       "26488             0.485682  \n",
       "31539            -1.305534  \n",
       "13711             1.516244  \n",
       "328               0.044012  \n",
       "\n",
       "[28500 rows x 6 columns]"
      ]
     },
     "execution_count": 21,
     "metadata": {},
     "output_type": "execute_result"
    }
   ],
   "source": [
    "df_test_num"
   ]
  },
  {
   "cell_type": "code",
   "execution_count": 22,
   "metadata": {},
   "outputs": [],
   "source": [
    "#Concatenamos variables númericas + categoricas\n",
    "df_train_final = pd.concat([df_train_num.reset_index(drop=True), df_train_cat.reset_index(drop=True)], axis=1) \n",
    "df_test_final = pd.concat([df_test_num.reset_index(drop=True), df_test_cat.reset_index(drop=True)], axis=1)"
   ]
  },
  {
   "cell_type": "markdown",
   "metadata": {},
   "source": [
    "La columna ***`diabetes`*** es la columna que debemos predecir. En el dataset de validación esta columna tiene valores nulos."
   ]
  },
  {
   "cell_type": "markdown",
   "metadata": {},
   "source": [
    "### Validacion\n",
    "\n",
    "Datos que usamos para validar el modelo ya entrenado"
   ]
  },
  {
   "cell_type": "markdown",
   "metadata": {},
   "source": [
    "Cargamos los datos de validación. Estos datos son los que van a utilizar para predecir si las personas tienen diabetes y generar alrchivo `submision.csv` para utilizar en la competencia de Kaggle."
   ]
  },
  {
   "cell_type": "code",
   "execution_count": 23,
   "metadata": {},
   "outputs": [],
   "source": [
    "# URL del archivo .csv en el repositorio de GitHub\n",
    "#Cargamos archivo de Validacion\n",
    "url = \"https://raw.githubusercontent.com/DiploDatos/AprendizajeSupervisado/master/Pr%C3%A1ctico/diabetes_prediction_dataset_test.csv\"\n",
    "\n",
    "# Leer el archivo .csv desde la URL\n",
    "df_validacion = pd.read_csv(url) #Tiene el archivo de entrenamiento\n",
    "\n",
    "# Mostrar las primeras filas del DataFrame\n",
    "#print(df_validacion.head())"
   ]
  },
  {
   "cell_type": "code",
   "execution_count": 24,
   "metadata": {},
   "outputs": [
    {
     "data": {
      "text/html": [
       "<div>\n",
       "<style scoped>\n",
       "    .dataframe tbody tr th:only-of-type {\n",
       "        vertical-align: middle;\n",
       "    }\n",
       "\n",
       "    .dataframe tbody tr th {\n",
       "        vertical-align: top;\n",
       "    }\n",
       "\n",
       "    .dataframe thead th {\n",
       "        text-align: right;\n",
       "    }\n",
       "</style>\n",
       "<table border=\"1\" class=\"dataframe\">\n",
       "  <thead>\n",
       "    <tr style=\"text-align: right;\">\n",
       "      <th></th>\n",
       "      <th>patient</th>\n",
       "      <th>gender</th>\n",
       "      <th>age</th>\n",
       "      <th>hypertension</th>\n",
       "      <th>heart_disease</th>\n",
       "      <th>smoking_history</th>\n",
       "      <th>bmi</th>\n",
       "      <th>HbA1c_level</th>\n",
       "      <th>blood_glucose_level</th>\n",
       "      <th>diabetes</th>\n",
       "    </tr>\n",
       "  </thead>\n",
       "  <tbody>\n",
       "    <tr>\n",
       "      <th>0</th>\n",
       "      <td>49267</td>\n",
       "      <td>Male</td>\n",
       "      <td>53.0</td>\n",
       "      <td>0</td>\n",
       "      <td>0</td>\n",
       "      <td>never</td>\n",
       "      <td>31.99</td>\n",
       "      <td>4.5</td>\n",
       "      <td>126</td>\n",
       "      <td>NaN</td>\n",
       "    </tr>\n",
       "    <tr>\n",
       "      <th>1</th>\n",
       "      <td>82280</td>\n",
       "      <td>Female</td>\n",
       "      <td>22.0</td>\n",
       "      <td>0</td>\n",
       "      <td>0</td>\n",
       "      <td>never</td>\n",
       "      <td>25.96</td>\n",
       "      <td>6.6</td>\n",
       "      <td>130</td>\n",
       "      <td>NaN</td>\n",
       "    </tr>\n",
       "    <tr>\n",
       "      <th>2</th>\n",
       "      <td>33216</td>\n",
       "      <td>Female</td>\n",
       "      <td>37.0</td>\n",
       "      <td>0</td>\n",
       "      <td>0</td>\n",
       "      <td>never</td>\n",
       "      <td>22.24</td>\n",
       "      <td>6.2</td>\n",
       "      <td>126</td>\n",
       "      <td>NaN</td>\n",
       "    </tr>\n",
       "    <tr>\n",
       "      <th>3</th>\n",
       "      <td>94551</td>\n",
       "      <td>Female</td>\n",
       "      <td>29.0</td>\n",
       "      <td>0</td>\n",
       "      <td>0</td>\n",
       "      <td>not current</td>\n",
       "      <td>31.01</td>\n",
       "      <td>5.0</td>\n",
       "      <td>80</td>\n",
       "      <td>NaN</td>\n",
       "    </tr>\n",
       "    <tr>\n",
       "      <th>4</th>\n",
       "      <td>43760</td>\n",
       "      <td>Male</td>\n",
       "      <td>30.0</td>\n",
       "      <td>0</td>\n",
       "      <td>0</td>\n",
       "      <td>ever</td>\n",
       "      <td>28.66</td>\n",
       "      <td>6.6</td>\n",
       "      <td>100</td>\n",
       "      <td>NaN</td>\n",
       "    </tr>\n",
       "  </tbody>\n",
       "</table>\n",
       "</div>"
      ],
      "text/plain": [
       "   patient  gender   age  hypertension  heart_disease smoking_history    bmi  \\\n",
       "0    49267    Male  53.0             0              0           never  31.99   \n",
       "1    82280  Female  22.0             0              0           never  25.96   \n",
       "2    33216  Female  37.0             0              0           never  22.24   \n",
       "3    94551  Female  29.0             0              0     not current  31.01   \n",
       "4    43760    Male  30.0             0              0            ever  28.66   \n",
       "\n",
       "   HbA1c_level  blood_glucose_level  diabetes  \n",
       "0          4.5                  126       NaN  \n",
       "1          6.6                  130       NaN  \n",
       "2          6.2                  126       NaN  \n",
       "3          5.0                   80       NaN  \n",
       "4          6.6                  100       NaN  "
      ]
     },
     "execution_count": 24,
     "metadata": {},
     "output_type": "execute_result"
    }
   ],
   "source": [
    "df_validacion.head()"
   ]
  },
  {
   "cell_type": "code",
   "execution_count": 25,
   "metadata": {},
   "outputs": [
    {
     "name": "stdout",
     "output_type": "stream",
     "text": [
      "<class 'pandas.core.frame.DataFrame'>\n",
      "RangeIndex: 5000 entries, 0 to 4999\n",
      "Data columns (total 10 columns):\n",
      " #   Column               Non-Null Count  Dtype  \n",
      "---  ------               --------------  -----  \n",
      " 0   patient              5000 non-null   int64  \n",
      " 1   gender               5000 non-null   object \n",
      " 2   age                  5000 non-null   float64\n",
      " 3   hypertension         5000 non-null   int64  \n",
      " 4   heart_disease        5000 non-null   int64  \n",
      " 5   smoking_history      5000 non-null   object \n",
      " 6   bmi                  5000 non-null   float64\n",
      " 7   HbA1c_level          5000 non-null   float64\n",
      " 8   blood_glucose_level  5000 non-null   int64  \n",
      " 9   diabetes             0 non-null      float64\n",
      "dtypes: float64(4), int64(4), object(2)\n",
      "memory usage: 390.8+ KB\n"
     ]
    }
   ],
   "source": [
    "df_validacion.info()"
   ]
  },
  {
   "cell_type": "markdown",
   "metadata": {},
   "source": [
    "### Planteo de modelos\n",
    "Tienen que elegir los 2 mejores modelos así que prueben con varios."
   ]
  },
  {
   "cell_type": "code",
   "execution_count": 26,
   "metadata": {},
   "outputs": [
    {
     "name": "stdout",
     "output_type": "stream",
     "text": [
      "Árbol de decisión\n",
      "Accuracy train Árbol de decisión: 99.93%\n",
      "Accuracy test {name}: 95.20%\n"
     ]
    }
   ],
   "source": [
    "clfs = [DecisionTreeClassifier()] # Hicimos una prueba agregando:class_weight='balanced', random_state=42 pero no mejora\n",
    "names = ['Árbol de decisión']\n",
    "\n",
    "trained_models = []\n",
    "accuracy_models = []\n",
    "\n",
    "for clf,name in zip(clfs,names):\n",
    "    print(name)\n",
    "    clf.fit(df_train_final, y_train)\n",
    "    train_predictions = clf.predict(df_train_final)\n",
    "    accuracy = accuracy_score(y_train, train_predictions)\n",
    "    print(f\"Accuracy train {name}: %.2f%%\" % (accuracy * 100.0))\n",
    "\n",
    "    test_predictions = clf.predict(df_test_final)\n",
    "    accuracy = accuracy_score(y_test, test_predictions)\n",
    "    print(\"Accuracy test {name}: %.2f%%\" % (accuracy * 100.0))\n",
    "    #plot_confusion_matrix(clf,x_test,y_test)\n",
    "    trained_models.append(clf)\n",
    "    accuracy_models.append(accuracy*100)"
   ]
  },
  {
   "cell_type": "markdown",
   "metadata": {},
   "source": [
    "### Algún tipo de ajuste de hiperparámetros de los modelos elegidos"
   ]
  },
  {
   "cell_type": "code",
   "execution_count": 27,
   "metadata": {},
   "outputs": [
    {
     "data": {
      "text/plain": [
       "{'criterion': 'gini',\n",
       " 'max_depth': 5,\n",
       " 'min_samples_leaf': 1,\n",
       " 'min_samples_split': 2,\n",
       " 'splitter': 'best'}"
      ]
     },
     "execution_count": 27,
     "metadata": {},
     "output_type": "execute_result"
    }
   ],
   "source": [
    "grid = GridSearchCV(DecisionTreeClassifier(),\n",
    " {'criterion':('gini','entropy'),\n",
    " 'splitter':(\"best\",\"random\"),\n",
    "  'min_samples_leaf':(1, 2, 5),\n",
    "  'min_samples_split':(2, 3, 5, 10, 50, 100),\n",
    " 'max_depth':(5,10,20)})\n",
    "grid.fit(df_train_final,y_train)\n",
    "grid.best_params_"
   ]
  },
  {
   "cell_type": "code",
   "execution_count": 28,
   "metadata": {},
   "outputs": [
    {
     "name": "stdout",
     "output_type": "stream",
     "text": [
      "Accuracy train Arbol de decisión: 97.18%\n",
      "Accuracy test Arbol de decisión: 97.18%\n"
     ]
    },
    {
     "data": {
      "image/png": "[encoded data removed]",
      "text/plain": [
       "<Figure size 432x288 with 2 Axes>"
      ]
     },
     "metadata": {
      "needs_background": "light"
     },
     "output_type": "display_data"
    },
    {
     "name": "stdout",
     "output_type": "stream",
     "text": [
      "              precision    recall  f1-score   support\n",
      "\n",
      "           0       0.97      1.00      0.98     26115\n",
      "           1       1.00      0.66      0.80      2385\n",
      "\n",
      "    accuracy                           0.97     28500\n",
      "   macro avg       0.99      0.83      0.89     28500\n",
      "weighted avg       0.97      0.97      0.97     28500\n",
      "\n"
     ]
    }
   ],
   "source": [
    "clf = DecisionTreeClassifier(**grid.best_params_).fit(df_train_final, y_train)\n",
    "\n",
    "train_predictions = clf.predict(df_train_final)\n",
    "accuracy = accuracy_score(y_train, train_predictions)\n",
    "print(\"Accuracy train Arbol de decisión: %.2f%%\" % (accuracy * 100.0))\n",
    "\n",
    "test_predictions = clf.predict(df_test_final)\n",
    "accuracy = accuracy_score(y_test, test_predictions)\n",
    "print(\"Accuracy test Arbol de decisión: %.2f%%\" % (accuracy * 100.0))\n",
    "ConfusionMatrixDisplay.from_predictions(y_test, test_predictions)\n",
    "plt.show()\n",
    "\n",
    "print(classification_report(y_test,clf.predict(df_test_final)))"
   ]
  },
  {
   "cell_type": "code",
   "execution_count": 29,
   "metadata": {},
   "outputs": [
    {
     "name": "stdout",
     "output_type": "stream",
     "text": [
      "DecisionTreeClassifier(max_depth=5)\n"
     ]
    },
    {
     "name": "stdout",
     "output_type": "stream",
     "text": [
      "Precisión test fold 0: 97.19\n",
      "Precisión test fold 1: 97.24\n",
      "Precisión test fold 2: 97.18\n",
      "Precisión test fold 3: 97.07\n",
      "Precisión test fold 4: 97.25\n",
      "Avg. accuracy = 97.18496240601503\n"
     ]
    }
   ],
   "source": [
    "FOLDS=5\n",
    "cv = StratifiedKFold(n_splits=FOLDS, shuffle=True, random_state=10)\n",
    "\n",
    "x_train2 = np.array(df_train_final)\n",
    "y_train2 = np.array(y_train)\n",
    "\n",
    "\n",
    "for clfi, name in zip([DecisionTreeClassifier(**grid.best_params_)],names):\n",
    "    print(clfi)\n",
    "    avg_accuracy = 0\n",
    "    for fold, (train_idx, val_idx) in enumerate(cv.split(x_train2, y_train2)):\n",
    "        xi, yi = x_train2[train_idx], y_train2[train_idx]\n",
    "        x_valid, y_valid = x_train2[val_idx], y_train2[val_idx]\n",
    "        clfi = clfi.fit(xi, yi)\n",
    "\n",
    "        test_predictions = clfi.predict(x_valid)\n",
    "        accuracy = accuracy_score(y_valid, test_predictions)\n",
    "        avg_accuracy +=accuracy\n",
    "        print(f\"Precisión test fold {fold}: {accuracy * 100.0 :.2f}\" % ())\n",
    "\n",
    "    avg_accuracy /= FOLDS\n",
    "    print(f'Avg. accuracy = {avg_accuracy * 100}')"
   ]
  },
  {
   "cell_type": "code",
   "execution_count": 35,
   "metadata": {},
   "outputs": [
    {
     "name": "stdout",
     "output_type": "stream",
     "text": [
      "Accuracy train SVM sigmoid: 91.69%\n",
      "Accuracy Test SVM sigmoid: 91.82%\n"
     ]
    },
    {
     "data": {
      "image/png": "[encoded data removed]",
      "text/plain": [
       "<Figure size 432x288 with 2 Axes>"
      ]
     },
     "metadata": {
      "needs_background": "light"
     },
     "output_type": "display_data"
    },
    {
     "name": "stdout",
     "output_type": "stream",
     "text": [
      "              precision    recall  f1-score   support\n",
      "\n",
      "           0       0.96      0.96      0.96     26115\n",
      "           1       0.51      0.51      0.51      2385\n",
      "\n",
      "    accuracy                           0.92     28500\n",
      "   macro avg       0.73      0.73      0.73     28500\n",
      "weighted avg       0.92      0.92      0.92     28500\n",
      "\n"
     ]
    }
   ],
   "source": [
    "from sklearn import svm\n",
    "clf = sklearn.svm.SVC(kernel=\"sigmoid\", gamma=\"auto\").fit(df_train_final, y_train)\n",
    "test_predictions = clf.predict(df_test_final)\n",
    "train_predictions= clf.predict(df_train_final)\n",
    "accuracy = accuracy_score(y_train, train_predictions)\n",
    "print(\"Accuracy train SVM sigmoid: %.2f%%\" % (accuracy * 100.0))\n",
    "accuracy = accuracy_score(y_test, test_predictions)\n",
    "print(\"Accuracy Test SVM sigmoid: %.2f%%\" % (accuracy * 100.0))\n",
    "ConfusionMatrixDisplay.from_predictions(y_test, test_predictions)\n",
    "plt.show()\n",
    "print(classification_report(y_test,clf.predict(df_test_final)))\n",
    "\n"
   ]
  },
  {
   "cell_type": "markdown",
   "metadata": {},
   "source": [
    "Probamos con Kernel RBF"
   ]
  },
  {
   "cell_type": "code",
   "execution_count": 38,
   "metadata": {},
   "outputs": [
    {
     "name": "stdout",
     "output_type": "stream",
     "text": [
      "[LibSVM]Accuracy train SVM rbf: 96.37%\n",
      "Accuracy Test SVM rbf: 96.44%\n"
     ]
    },
    {
     "data": {
      "image/png": "[encoded data removed]",
      "text/plain": [
       "<Figure size 432x288 with 2 Axes>"
      ]
     },
     "metadata": {
      "needs_background": "light"
     },
     "output_type": "display_data"
    },
    {
     "name": "stdout",
     "output_type": "stream",
     "text": [
      "              precision    recall  f1-score   support\n",
      "\n",
      "           0       0.96      1.00      0.98     26115\n",
      "           1       0.99      0.58      0.73      2385\n",
      "\n",
      "    accuracy                           0.96     28500\n",
      "   macro avg       0.98      0.79      0.86     28500\n",
      "weighted avg       0.97      0.96      0.96     28500\n",
      "\n"
     ]
    }
   ],
   "source": [
    "clf = sklearn.svm.SVC(kernel=\"rbf\", gamma=\"auto\", verbose=2).fit(df_train_final, y_train)\n",
    "test_predictions = clf.predict(df_test_final)\n",
    "train_predictions= clf.predict(df_train_final)\n",
    "accuracy = accuracy_score(y_train, train_predictions)\n",
    "print(\"Accuracy train SVM rbf: %.2f%%\" % (accuracy * 100.0))\n",
    "accuracy = accuracy_score(y_test, test_predictions)\n",
    "print(\"Accuracy Test SVM rbf: %.2f%%\" % (accuracy * 100.0))\n",
    "ConfusionMatrixDisplay.from_predictions(y_test, test_predictions)\n",
    "plt.show()\n",
    "print(classification_report(y_test,clf.predict(df_test_final)))"
   ]
  },
  {
   "cell_type": "markdown",
   "metadata": {},
   "source": [
    "Vemos con validación cruzada estratificada"
   ]
  },
  {
   "cell_type": "code",
   "execution_count": 40,
   "metadata": {},
   "outputs": [
    {
     "name": "stdout",
     "output_type": "stream",
     "text": [
      "[LibSVM]Accuracy fold: 89.26%\n",
      "[LibSVM]Accuracy fold: 88.74%\n",
      "[LibSVM]Accuracy fold: 88.73%\n",
      "[LibSVM]Accuracy fold: 88.77%\n",
      "[LibSVM]Accuracy fold: 88.26%\n",
      "Mean Accuracy (CV): 88.75%\n",
      "[LibSVM]Accuracy train SVM rbf: 88.84%\n",
      "Accuracy test SVM rbf: 88.70%\n"
     ]
    },
    {
     "data": {
      "image/png": "[encoded data removed]",
      "text/plain": [
       "<Figure size 432x288 with 2 Axes>"
      ]
     },
     "metadata": {
      "needs_background": "light"
     },
     "output_type": "display_data"
    },
    {
     "name": "stdout",
     "output_type": "stream",
     "text": [
      "              precision    recall  f1-score   support\n",
      "\n",
      "           0       0.99      0.89      0.93     26115\n",
      "           1       0.42      0.91      0.57      2385\n",
      "\n",
      "    accuracy                           0.89     28500\n",
      "   macro avg       0.70      0.90      0.75     28500\n",
      "weighted avg       0.94      0.89      0.90     28500\n",
      "\n"
     ]
    }
   ],
   "source": [
    "from sklearn.svm import SVC\n",
    "from sklearn.model_selection import StratifiedKFold\n",
    "from sklearn.metrics import accuracy_score, ConfusionMatrixDisplay, classification_report\n",
    "import matplotlib.pyplot as plt\n",
    "\n",
    "# Definir el modelo SVM con kernel RBF\n",
    "clf = SVC(kernel=\"rbf\", gamma=\"auto\", class_weight='balanced', verbose=2)\n",
    "n_splits = 5  # Número de pliegues para la validación cruzada\n",
    "\n",
    "# Configuración de StratifiedKFold\n",
    "skf = StratifiedKFold(n_splits=n_splits, shuffle=True, random_state=42)\n",
    "\n",
    "# Inicialización de listas para almacenar los resultados de validación cruzada\n",
    "fold_accuracies = []\n",
    "\n",
    "# Validación cruzada\n",
    "for train_index, test_index in skf.split(df_train_final, y_train):\n",
    "    X_train_fold, X_test_fold = df_train_final.iloc[train_index], df_train_final.iloc[test_index]\n",
    "    y_train_fold, y_test_fold = y_train.iloc[train_index], y_train.iloc[test_index]\n",
    "    \n",
    "    clf.fit(X_train_fold, y_train_fold)\n",
    "    \n",
    "    # Predicción y cálculo de precisión en el conjunto de validación\n",
    "    val_predictions = clf.predict(X_test_fold)\n",
    "    fold_accuracy = accuracy_score(y_test_fold, val_predictions)\n",
    "    fold_accuracies.append(fold_accuracy)\n",
    "    \n",
    "    print(f\"Accuracy fold: %.2f%%\" % (fold_accuracy * 100.0))\n",
    "\n",
    "# Calcular y mostrar la precisión media de validación cruzada\n",
    "mean_fold_accuracy = np.mean(fold_accuracies)\n",
    "print(f\"Mean Accuracy (CV): %.2f%%\" % (mean_fold_accuracy * 100.0))\n",
    "\n",
    "# Evaluación final en el conjunto de prueba completo\n",
    "clf.fit(df_train_final, y_train)\n",
    "train_predictions = clf.predict(df_train_final)\n",
    "test_predictions = clf.predict(df_test_final)\n",
    "\n",
    "# Cálculo de precisión en el conjunto de entrenamiento\n",
    "train_accuracy = accuracy_score(y_train, train_predictions)\n",
    "print(\"Accuracy train SVM rbf: %.2f%%\" % (train_accuracy * 100.0))\n",
    "\n",
    "# Cálculo de precisión en el conjunto de prueba\n",
    "test_accuracy = accuracy_score(y_test, test_predictions)\n",
    "print(\"Accuracy test SVM rbf: %.2f%%\" % (test_accuracy * 100.0))\n",
    "\n",
    "# Mostrar la matriz de confusión\n",
    "ConfusionMatrixDisplay.from_predictions(y_test, test_predictions)\n",
    "plt.show()\n",
    "\n",
    "# Mostrar el informe de clasificación\n",
    "print(classification_report(y_test, test_predictions))\n"
   ]
  },
  {
   "cell_type": "markdown",
   "metadata": {},
   "source": [
    "La precisión empeoró, lo cual nos habla de que este algoritmo no es óptimo para estos datos. Hacemos una prueba mas variando los hiperparámetros"
   ]
  },
  {
   "cell_type": "code",
   "execution_count": 41,
   "metadata": {},
   "outputs": [
    {
     "name": "stdout",
     "output_type": "stream",
     "text": [
      "Fitting 5 folds for each of 8 candidates, totalling 40 fits\n",
      "[LibSVM]Best hyperparameters: {'C': 100, 'gamma': 'scale', 'kernel': 'rbf'}\n",
      "Accuracy train SVM rbf: 91.30%\n",
      "Accuracy test SVM rbf: 90.45%\n"
     ]
    },
    {
     "data": {
      "image/png": "[encoded data removed]",
      "text/plain": [
       "<Figure size 432x288 with 2 Axes>"
      ]
     },
     "metadata": {
      "needs_background": "light"
     },
     "output_type": "display_data"
    },
    {
     "name": "stdout",
     "output_type": "stream",
     "text": [
      "              precision    recall  f1-score   support\n",
      "\n",
      "           0       0.99      0.91      0.95     26115\n",
      "           1       0.46      0.88      0.61      2385\n",
      "\n",
      "    accuracy                           0.90     28500\n",
      "   macro avg       0.73      0.89      0.78     28500\n",
      "weighted avg       0.94      0.90      0.92     28500\n",
      "\n"
     ]
    }
   ],
   "source": [
    "from sklearn.svm import SVC\n",
    "from sklearn.model_selection import StratifiedKFold, GridSearchCV\n",
    "from sklearn.metrics import accuracy_score, ConfusionMatrixDisplay, classification_report\n",
    "import matplotlib.pyplot as plt\n",
    "import numpy as np\n",
    "\n",
    "# Definir el rango de hiperparámetros para el grid search\n",
    "param_grid = {\n",
    "    'C': [0.1, 1, 10, 100],\n",
    "    'gamma': ['scale', 'auto'],\n",
    "    'kernel': ['rbf']\n",
    "}\n",
    "\n",
    "# Configuración de StratifiedKFold\n",
    "n_splits = 5\n",
    "skf = StratifiedKFold(n_splits=n_splits, shuffle=True, random_state=42)\n",
    "\n",
    "# Definir el modelo SVM\n",
    "svc = SVC(class_weight='balanced', verbose=2)\n",
    "\n",
    "# Configuración de GridSearchCV\n",
    "grid_search = GridSearchCV(svc, param_grid, cv=skf, scoring='accuracy', verbose=2, n_jobs=-1)\n",
    "\n",
    "# Ajustar el modelo con los datos de entrenamiento\n",
    "grid_search.fit(df_train_final, y_train)\n",
    "\n",
    "# Mostrar los mejores hiperparámetros\n",
    "print(\"Best hyperparameters:\", grid_search.best_params_)\n",
    "\n",
    "# Evaluación final en el conjunto de prueba completo\n",
    "best_model = grid_search.best_estimator_\n",
    "train_predictions = best_model.predict(df_train_final)\n",
    "test_predictions = best_model.predict(df_test_final)\n",
    "\n",
    "# Cálculo de precisión en el conjunto de entrenamiento\n",
    "train_accuracy = accuracy_score(y_train, train_predictions)\n",
    "print(\"Accuracy train SVM rbf: %.2f%%\" % (train_accuracy * 100.0))\n",
    "\n",
    "# Cálculo de precisión en el conjunto de prueba\n",
    "test_accuracy = accuracy_score(y_test, test_predictions)\n",
    "print(\"Accuracy test SVM rbf: %.2f%%\" % (test_accuracy * 100.0))\n",
    "\n",
    "# Mostrar la matriz de confusión\n",
    "ConfusionMatrixDisplay.from_predictions(y_test, test_predictions)\n",
    "plt.show()\n",
    "\n",
    "# Mostrar el informe de clasificación\n",
    "print(classification_report(y_test, test_predictions))\n"
   ]
  },
  {
   "cell_type": "code",
   "execution_count": 43,
   "metadata": {},
   "outputs": [
    {
     "name": "stdout",
     "output_type": "stream",
     "text": [
      "SVM Polinomial (Grado 2)\n",
      "Mean Accuracy (CV) SVM Polinomial (Grado 2): 89.08%\n",
      "Accuracy test SVM Polinomial (Grado 2): 89.09%\n",
      "SVM Polinomial (Grado 3)\n",
      "Mean Accuracy (CV) SVM Polinomial (Grado 3): 89.30%\n",
      "Accuracy test SVM Polinomial (Grado 3): 88.91%\n",
      "SVM Polinomial (Grado 4)\n",
      "Mean Accuracy (CV) SVM Polinomial (Grado 4): 90.43%\n",
      "Accuracy test SVM Polinomial (Grado 4): 90.18%\n",
      "SVM Polinomial (Grado 5)\n",
      "Mean Accuracy (CV) SVM Polinomial (Grado 5): 91.17%\n",
      "Accuracy test SVM Polinomial (Grado 5): 90.89%\n",
      "Grado 2: Mean Accuracy (CV) = 89.08%\n",
      "Grado 3: Mean Accuracy (CV) = 89.30%\n",
      "Grado 4: Mean Accuracy (CV) = 90.43%\n",
      "Grado 5: Mean Accuracy (CV) = 91.17%\n"
     ]
    }
   ],
   "source": [
    "from sklearn.svm import SVC\n",
    "from sklearn.model_selection import StratifiedKFold\n",
    "from sklearn.metrics import accuracy_score\n",
    "import numpy as np\n",
    "import matplotlib.pyplot as plt\n",
    "\n",
    "# Definir los grados de los polinomios a probar\n",
    "degrees = [2, 3, 4, 5]\n",
    "n_splits = 5  # Número de pliegues para la validación cruzada\n",
    "\n",
    "# Inicialización de listas para almacenar los resultados\n",
    "trained_models = []\n",
    "accuracy_models = []\n",
    "mean_accuracies = {}\n",
    "\n",
    "# Configuración de StratifiedKFold\n",
    "skf = StratifiedKFold(n_splits=n_splits, shuffle=True, random_state=42)\n",
    "\n",
    "# Función para plotear la frontera de decisión\n",
    "def plot_decision_boundary(pred_func, X, y, resolution=0.01):\n",
    "    # Crear un grid de todos los puntos en el rango de datos\n",
    "    x_min, x_max = X[0, :].min() - 1, X[0, :].max() + 1\n",
    "    y_min, y_max = X[1, :].min() - 1, X[1, :].max() + 1\n",
    "    xx, yy = np.meshgrid(np.arange(x_min, x_max, resolution),\n",
    "                         np.arange(y_min, y_max, resolution))\n",
    "    \n",
    "    # Predecir las clases para cada punto en el grid\n",
    "    Z = pred_func(np.c_[xx.ravel(), yy.ravel()])\n",
    "    Z = Z.reshape(xx.shape)\n",
    "    \n",
    "    # Plotear el contour y los puntos de datos\n",
    "    plt.contourf(xx, yy, Z, alpha=0.3)\n",
    "    plt.scatter(X[0, :], X[1, :], c=y, s=20, edgecolor='k')\n",
    "    plt.show()\n",
    "\n",
    "for degree in degrees:\n",
    "    clf = SVC(kernel='poly', degree=degree, class_weight='balanced')\n",
    "    name = f'SVM Polinomial (Grado {degree})'\n",
    "    print(name)\n",
    "    \n",
    "    fold_accuracies = []\n",
    "\n",
    "    for train_index, test_index in skf.split(df_train_final, y_train):\n",
    "        X_train_fold, X_test_fold = df_train_final.iloc[train_index], df_train_final.iloc[test_index]\n",
    "        y_train_fold, y_test_fold = y_train.iloc[train_index], y_train.iloc[test_index]\n",
    "        \n",
    "        clf.fit(X_train_fold, y_train_fold)\n",
    "        \n",
    "        # Predicción y cálculo de precisión en el conjunto de validación\n",
    "        val_predictions = clf.predict(X_test_fold)\n",
    "        fold_accuracy = accuracy_score(y_test_fold, val_predictions)\n",
    "        fold_accuracies.append(fold_accuracy)\n",
    "    \n",
    "    mean_fold_accuracy = np.mean(fold_accuracies)\n",
    "    mean_accuracies[degree] = mean_fold_accuracy * 100.0\n",
    "    print(f\"Mean Accuracy (CV) {name}: %.2f%%\" % (mean_fold_accuracy * 100.0))\n",
    "    \n",
    "    # Evaluación final en el conjunto de prueba completo\n",
    "    clf.fit(df_train_final, y_train)\n",
    "    test_predictions = clf.predict(df_test_final)\n",
    "    test_accuracy = accuracy_score(y_test, test_predictions)\n",
    "    print(f\"Accuracy test {name}: %.2f%%\" % (test_accuracy * 100.0))\n",
    "    \n",
    "    trained_models.append(clf)\n",
    "    accuracy_models.append(test_accuracy * 100)\n",
    "    \n",
    "    # Visualizar la frontera de decisión\n",
    "    #X_test = df_test_final.values.T  # Asegúrate de que los datos estén en el formato correcto\n",
    "    #y_test = y_test.values.T  # Asegúrate de que los datos estén en el formato correcto\n",
    "    #plot_decision_boundary(lambda x: clf.predict(x), X_test, y_test)\n",
    "\n",
    "# Imprimir resultados de todos los grados\n",
    "for degree, accuracy in mean_accuracies.items():\n",
    "    print(f\"Grado {degree}: Mean Accuracy (CV) = {accuracy:.2f}%\")\n"
   ]
  },
  {
   "cell_type": "code",
   "execution_count": 44,
   "metadata": {},
   "outputs": [
    {
     "name": "stdout",
     "output_type": "stream",
     "text": [
      "SVM Polinomial (Grado 6)\n",
      "Mean Accuracy (CV) SVM Polinomial (Grado 6): 91.77%\n",
      "Accuracy test SVM Polinomial (Grado 6): 91.67%\n",
      "SVM Polinomial (Grado 7)\n",
      "Mean Accuracy (CV) SVM Polinomial (Grado 7): 92.41%\n",
      "Accuracy test SVM Polinomial (Grado 7): 92.41%\n",
      "SVM Polinomial (Grado 8)\n"
     ]
    }
   ],
   "source": [
    "from sklearn.svm import SVC\n",
    "from sklearn.model_selection import StratifiedKFold\n",
    "from sklearn.metrics import accuracy_score\n",
    "import numpy as np\n",
    "import matplotlib.pyplot as plt\n",
    "\n",
    "# Definir los grados de los polinomios a probar\n",
    "degrees = [6, 7, 8]\n",
    "n_splits = 5  # Número de pliegues para la validación cruzada\n",
    "\n",
    "# Inicialización de listas para almacenar los resultados\n",
    "trained_models = []\n",
    "accuracy_models = []\n",
    "mean_accuracies = {}\n",
    "\n",
    "# Configuración de StratifiedKFold\n",
    "skf = StratifiedKFold(n_splits=n_splits, shuffle=True, random_state=42)\n",
    "\n",
    "# Función para plotear la frontera de decisión\n",
    "def plot_decision_boundary(pred_func, X, y, resolution=0.01):\n",
    "    # Crear un grid de todos los puntos en el rango de datos\n",
    "    x_min, x_max = X[0, :].min() - 1, X[0, :].max() + 1\n",
    "    y_min, y_max = X[1, :].min() - 1, X[1, :].max() + 1\n",
    "    xx, yy = np.meshgrid(np.arange(x_min, x_max, resolution),\n",
    "                         np.arange(y_min, y_max, resolution))\n",
    "    \n",
    "    # Predecir las clases para cada punto en el grid\n",
    "    Z = pred_func(np.c_[xx.ravel(), yy.ravel()])\n",
    "    Z = Z.reshape(xx.shape)\n",
    "    \n",
    "    # Plotear el contour y los puntos de datos\n",
    "    plt.contourf(xx, yy, Z, alpha=0.3)\n",
    "    plt.scatter(X[0, :], X[1, :], c=y, s=20, edgecolor='k')\n",
    "    plt.show()\n",
    "\n",
    "for degree in degrees:\n",
    "    clf = SVC(kernel='poly', degree=degree, class_weight='balanced')\n",
    "    name = f'SVM Polinomial (Grado {degree})'\n",
    "    print(name)\n",
    "    \n",
    "    fold_accuracies = []\n",
    "\n",
    "    for train_index, test_index in skf.split(df_train_final, y_train):\n",
    "        X_train_fold, X_test_fold = df_train_final.iloc[train_index], df_train_final.iloc[test_index]\n",
    "        y_train_fold, y_test_fold = y_train.iloc[train_index], y_train.iloc[test_index]\n",
    "        \n",
    "        clf.fit(X_train_fold, y_train_fold)\n",
    "        \n",
    "        # Predicción y cálculo de precisión en el conjunto de validación\n",
    "        val_predictions = clf.predict(X_test_fold)\n",
    "        fold_accuracy = accuracy_score(y_test_fold, val_predictions)\n",
    "        fold_accuracies.append(fold_accuracy)\n",
    "    \n",
    "    mean_fold_accuracy = np.mean(fold_accuracies)\n",
    "    mean_accuracies[degree] = mean_fold_accuracy * 100.0\n",
    "    print(f\"Mean Accuracy (CV) {name}: %.2f%%\" % (mean_fold_accuracy * 100.0))\n",
    "    \n",
    "    # Evaluación final en el conjunto de prueba completo\n",
    "    clf.fit(df_train_final, y_train)\n",
    "    test_predictions = clf.predict(df_test_final)\n",
    "    test_accuracy = accuracy_score(y_test, test_predictions)\n",
    "    print(f\"Accuracy test {name}: %.2f%%\" % (test_accuracy * 100.0))\n",
    "    \n",
    "    trained_models.append(clf)\n",
    "    accuracy_models.append(test_accuracy * 100)\n",
    "    \n",
    "    # Visualizar la frontera de decisión\n",
    "    #X_test = df_test_final.values.T  # Asegúrate de que los datos estén en el formato correcto\n",
    "    #y_test = y_test.values.T  # Asegúrate de que los datos estén en el formato correcto\n",
    "    #plot_decision_boundary(lambda x: clf.predict(x), X_test, y_test)\n",
    "\n",
    "# Imprimir resultados de todos los grados\n",
    "for degree, accuracy in mean_accuracies.items():\n",
    "    print(f\"Grado {degree}: Mean Accuracy (CV) = {accuracy:.2f}%\")\n"
   ]
  },
  {
   "cell_type": "markdown",
   "metadata": {},
   "source": [
    "## Generar la salida para entregar"
   ]
  },
  {
   "cell_type": "code",
   "execution_count": null,
   "metadata": {},
   "outputs": [
    {
     "data": {
      "text/html": [
       "<div>\n",
       "<style scoped>\n",
       "    .dataframe tbody tr th:only-of-type {\n",
       "        vertical-align: middle;\n",
       "    }\n",
       "\n",
       "    .dataframe tbody tr th {\n",
       "        vertical-align: top;\n",
       "    }\n",
       "\n",
       "    .dataframe thead th {\n",
       "        text-align: right;\n",
       "    }\n",
       "</style>\n",
       "<table border=\"1\" class=\"dataframe\">\n",
       "  <thead>\n",
       "    <tr style=\"text-align: right;\">\n",
       "      <th></th>\n",
       "      <th>patient</th>\n",
       "      <th>gender</th>\n",
       "      <th>age</th>\n",
       "      <th>hypertension</th>\n",
       "      <th>heart_disease</th>\n",
       "      <th>smoking_history</th>\n",
       "      <th>bmi</th>\n",
       "      <th>HbA1c_level</th>\n",
       "      <th>blood_glucose_level</th>\n",
       "      <th>diabetes</th>\n",
       "    </tr>\n",
       "  </thead>\n",
       "  <tbody>\n",
       "    <tr>\n",
       "      <th>0</th>\n",
       "      <td>49267</td>\n",
       "      <td>Male</td>\n",
       "      <td>53.0</td>\n",
       "      <td>0</td>\n",
       "      <td>0</td>\n",
       "      <td>never</td>\n",
       "      <td>31.99</td>\n",
       "      <td>4.5</td>\n",
       "      <td>126</td>\n",
       "      <td>NaN</td>\n",
       "    </tr>\n",
       "    <tr>\n",
       "      <th>1</th>\n",
       "      <td>82280</td>\n",
       "      <td>Female</td>\n",
       "      <td>22.0</td>\n",
       "      <td>0</td>\n",
       "      <td>0</td>\n",
       "      <td>never</td>\n",
       "      <td>25.96</td>\n",
       "      <td>6.6</td>\n",
       "      <td>130</td>\n",
       "      <td>NaN</td>\n",
       "    </tr>\n",
       "    <tr>\n",
       "      <th>2</th>\n",
       "      <td>33216</td>\n",
       "      <td>Female</td>\n",
       "      <td>37.0</td>\n",
       "      <td>0</td>\n",
       "      <td>0</td>\n",
       "      <td>never</td>\n",
       "      <td>22.24</td>\n",
       "      <td>6.2</td>\n",
       "      <td>126</td>\n",
       "      <td>NaN</td>\n",
       "    </tr>\n",
       "    <tr>\n",
       "      <th>3</th>\n",
       "      <td>94551</td>\n",
       "      <td>Female</td>\n",
       "      <td>29.0</td>\n",
       "      <td>0</td>\n",
       "      <td>0</td>\n",
       "      <td>not current</td>\n",
       "      <td>31.01</td>\n",
       "      <td>5.0</td>\n",
       "      <td>80</td>\n",
       "      <td>NaN</td>\n",
       "    </tr>\n",
       "    <tr>\n",
       "      <th>4</th>\n",
       "      <td>43760</td>\n",
       "      <td>Male</td>\n",
       "      <td>30.0</td>\n",
       "      <td>0</td>\n",
       "      <td>0</td>\n",
       "      <td>ever</td>\n",
       "      <td>28.66</td>\n",
       "      <td>6.6</td>\n",
       "      <td>100</td>\n",
       "      <td>NaN</td>\n",
       "    </tr>\n",
       "    <tr>\n",
       "      <th>...</th>\n",
       "      <td>...</td>\n",
       "      <td>...</td>\n",
       "      <td>...</td>\n",
       "      <td>...</td>\n",
       "      <td>...</td>\n",
       "      <td>...</td>\n",
       "      <td>...</td>\n",
       "      <td>...</td>\n",
       "      <td>...</td>\n",
       "      <td>...</td>\n",
       "    </tr>\n",
       "    <tr>\n",
       "      <th>4995</th>\n",
       "      <td>88540</td>\n",
       "      <td>Female</td>\n",
       "      <td>23.0</td>\n",
       "      <td>0</td>\n",
       "      <td>0</td>\n",
       "      <td>never</td>\n",
       "      <td>22.77</td>\n",
       "      <td>6.6</td>\n",
       "      <td>200</td>\n",
       "      <td>NaN</td>\n",
       "    </tr>\n",
       "    <tr>\n",
       "      <th>4996</th>\n",
       "      <td>26701</td>\n",
       "      <td>Female</td>\n",
       "      <td>51.0</td>\n",
       "      <td>0</td>\n",
       "      <td>0</td>\n",
       "      <td>No Info</td>\n",
       "      <td>27.32</td>\n",
       "      <td>4.0</td>\n",
       "      <td>155</td>\n",
       "      <td>NaN</td>\n",
       "    </tr>\n",
       "    <tr>\n",
       "      <th>4997</th>\n",
       "      <td>47271</td>\n",
       "      <td>Male</td>\n",
       "      <td>79.0</td>\n",
       "      <td>0</td>\n",
       "      <td>0</td>\n",
       "      <td>No Info</td>\n",
       "      <td>23.80</td>\n",
       "      <td>6.0</td>\n",
       "      <td>126</td>\n",
       "      <td>NaN</td>\n",
       "    </tr>\n",
       "    <tr>\n",
       "      <th>4998</th>\n",
       "      <td>97941</td>\n",
       "      <td>Male</td>\n",
       "      <td>24.0</td>\n",
       "      <td>0</td>\n",
       "      <td>0</td>\n",
       "      <td>never</td>\n",
       "      <td>22.68</td>\n",
       "      <td>6.1</td>\n",
       "      <td>85</td>\n",
       "      <td>NaN</td>\n",
       "    </tr>\n",
       "    <tr>\n",
       "      <th>4999</th>\n",
       "      <td>47305</td>\n",
       "      <td>Female</td>\n",
       "      <td>31.0</td>\n",
       "      <td>0</td>\n",
       "      <td>0</td>\n",
       "      <td>No Info</td>\n",
       "      <td>23.69</td>\n",
       "      <td>5.7</td>\n",
       "      <td>200</td>\n",
       "      <td>NaN</td>\n",
       "    </tr>\n",
       "  </tbody>\n",
       "</table>\n",
       "<p>5000 rows × 10 columns</p>\n",
       "</div>"
      ],
      "text/plain": [
       "      patient  gender   age  hypertension  heart_disease smoking_history  \\\n",
       "0       49267    Male  53.0             0              0           never   \n",
       "1       82280  Female  22.0             0              0           never   \n",
       "2       33216  Female  37.0             0              0           never   \n",
       "3       94551  Female  29.0             0              0     not current   \n",
       "4       43760    Male  30.0             0              0            ever   \n",
       "...       ...     ...   ...           ...            ...             ...   \n",
       "4995    88540  Female  23.0             0              0           never   \n",
       "4996    26701  Female  51.0             0              0         No Info   \n",
       "4997    47271    Male  79.0             0              0         No Info   \n",
       "4998    97941    Male  24.0             0              0           never   \n",
       "4999    47305  Female  31.0             0              0         No Info   \n",
       "\n",
       "        bmi  HbA1c_level  blood_glucose_level  diabetes  \n",
       "0     31.99          4.5                  126       NaN  \n",
       "1     25.96          6.6                  130       NaN  \n",
       "2     22.24          6.2                  126       NaN  \n",
       "3     31.01          5.0                   80       NaN  \n",
       "4     28.66          6.6                  100       NaN  \n",
       "...     ...          ...                  ...       ...  \n",
       "4995  22.77          6.6                  200       NaN  \n",
       "4996  27.32          4.0                  155       NaN  \n",
       "4997  23.80          6.0                  126       NaN  \n",
       "4998  22.68          6.1                   85       NaN  \n",
       "4999  23.69          5.7                  200       NaN  \n",
       "\n",
       "[5000 rows x 10 columns]"
      ]
     },
     "execution_count": 28,
     "metadata": {},
     "output_type": "execute_result"
    }
   ],
   "source": [
    "df_validacion"
   ]
  },
  {
   "cell_type": "markdown",
   "metadata": {},
   "source": [
    "Para poder evaluar nuestra predicción los datos de prueba deben tener exactamente el mismo tratamiento que los datos de entrenamiento"
   ]
  },
  {
   "cell_type": "code",
   "execution_count": null,
   "metadata": {},
   "outputs": [],
   "source": [
    "# Guardamos info del df_validacion\n",
    "Y_vacio = df_validacion[\"diabetes\"]\n",
    "PatientId_validacion = df_validacion['patient']\n",
    "X_validacion = df_validacion.drop(['patient','diabetes'],axis=1)\n"
   ]
  },
  {
   "cell_type": "markdown",
   "metadata": {},
   "source": [
    "## Encoding"
   ]
  },
  {
   "cell_type": "code",
   "execution_count": null,
   "metadata": {},
   "outputs": [
    {
     "name": "stdout",
     "output_type": "stream",
     "text": [
      "\n",
      "DataFrame codificado:\n",
      "      gender_Female  gender_Male  gender_Other  smoking_history_No Info  \\\n",
      "0               0.0          1.0           0.0                      0.0   \n",
      "1               1.0          0.0           0.0                      0.0   \n",
      "2               1.0          0.0           0.0                      0.0   \n",
      "3               1.0          0.0           0.0                      0.0   \n",
      "4               0.0          1.0           0.0                      0.0   \n",
      "...             ...          ...           ...                      ...   \n",
      "4995            1.0          0.0           0.0                      0.0   \n",
      "4996            1.0          0.0           0.0                      1.0   \n",
      "4997            0.0          1.0           0.0                      1.0   \n",
      "4998            0.0          1.0           0.0                      0.0   \n",
      "4999            1.0          0.0           0.0                      1.0   \n",
      "\n",
      "      smoking_history_current  smoking_history_ever  smoking_history_former  \\\n",
      "0                         0.0                   0.0                     0.0   \n",
      "1                         0.0                   0.0                     0.0   \n",
      "2                         0.0                   0.0                     0.0   \n",
      "3                         0.0                   0.0                     0.0   \n",
      "4                         0.0                   1.0                     0.0   \n",
      "...                       ...                   ...                     ...   \n",
      "4995                      0.0                   0.0                     0.0   \n",
      "4996                      0.0                   0.0                     0.0   \n",
      "4997                      0.0                   0.0                     0.0   \n",
      "4998                      0.0                   0.0                     0.0   \n",
      "4999                      0.0                   0.0                     0.0   \n",
      "\n",
      "      smoking_history_never  smoking_history_not current  \n",
      "0                       1.0                          0.0  \n",
      "1                       1.0                          0.0  \n",
      "2                       1.0                          0.0  \n",
      "3                       0.0                          1.0  \n",
      "4                       0.0                          0.0  \n",
      "...                     ...                          ...  \n",
      "4995                    1.0                          0.0  \n",
      "4996                    0.0                          0.0  \n",
      "4997                    0.0                          0.0  \n",
      "4998                    1.0                          0.0  \n",
      "4999                    0.0                          0.0  \n",
      "\n",
      "[5000 rows x 9 columns]\n"
     ]
    }
   ],
   "source": [
    "# Crear una instancia de OneHotEncoder\n",
    "ohe = OneHotEncoder(sparse=False, handle_unknown='ignore')\n",
    "\n",
    "# Ajustar y transformar el DataFrame diferencian en train y test\n",
    "encoded = ohe.fit_transform(X_validacion[['gender', 'smoking_history']])\n",
    "\n",
    "# Convertir el resultado a un DataFrame\n",
    "df_validacion_cat = pd.DataFrame(encoded, columns=ohe.get_feature_names_out(['gender', 'smoking_history']))\n",
    "\n",
    "print(\"\\nDataFrame codificado:\")\n",
    "print(df_validacion_cat)\n",
    "\n",
    "\n"
   ]
  },
  {
   "cell_type": "markdown",
   "metadata": {},
   "source": [
    "## Estandarizacion"
   ]
  },
  {
   "cell_type": "code",
   "execution_count": null,
   "metadata": {},
   "outputs": [],
   "source": [
    "# Data frame de variables numéricas\n",
    "\n",
    "df_validacion_num = X_validacion.drop([\"gender\",\"smoking_history\"], axis=1)"
   ]
  },
  {
   "cell_type": "code",
   "execution_count": null,
   "metadata": {},
   "outputs": [],
   "source": [
    "# Crear una instancia de StandardScaler\n",
    "scaler = StandardScaler()\n",
    "\n",
    "# Columnas a estandarizar\n",
    "cols_to_scale = ['age', 'bmi', 'HbA1c_level','blood_glucose_level']\n",
    "\n",
    "# Ajustar el scaler solo con las columnas seleccionadas\n",
    "scaler.fit(df_validacion_num[cols_to_scale])\n",
    "\n",
    "# Transformar solo las columnas seleccionadas y reemplazar en el DataFrame\n",
    "df_validacion_num[cols_to_scale] = scaler.transform(df_validacion_num[cols_to_scale])"
   ]
  },
  {
   "cell_type": "code",
   "execution_count": null,
   "metadata": {},
   "outputs": [],
   "source": [
    "#Concatenamos variables númericas + categoricas\n",
    "df_validacion_final = pd.concat([df_validacion_num.reset_index(drop=True), df_validacion_cat.reset_index(drop=True)], axis=1) "
   ]
  },
  {
   "cell_type": "markdown",
   "metadata": {},
   "source": [
    "Generamos la salida"
   ]
  },
  {
   "cell_type": "code",
   "execution_count": null,
   "metadata": {},
   "outputs": [],
   "source": [
    "test_id = PatientId_validacion\n",
    "validacion_pred = np.int64(clf.predict(df_validacion_final))"
   ]
  },
  {
   "cell_type": "markdown",
   "metadata": {},
   "source": [
    "Con el resultado predicho tenemos que generar el archivo `.csv` para subir a la competencia de kaggle:"
   ]
  },
  {
   "cell_type": "code",
   "execution_count": null,
   "metadata": {},
   "outputs": [],
   "source": [
    "submission = pd.DataFrame(list(zip(test_id, validacion_pred)), columns=[\"patient\", \"diabetes\"])\n",
    "submission.to_csv(\"sample_submission.csv\", header=True, index=False)"
   ]
  },
  {
   "cell_type": "markdown",
   "metadata": {},
   "source": [
    "### CONCLUSIONES\n",
    "\n",
    "Prueba 1: usando arbol decision y limpieza previa, obtuvimos un accuracy 0,97266. Identico al del profe usando un LabelEncoder.\n",
    "\n",
    "Prueba 2: tener en cuenta dentro del arbol de decisiones el class_weight no mejora el accuracy."
   ]
  }
 ],
 "metadata": {
  "kernelspec": {
   "display_name": "Python 3 (ipykernel)",
   "language": "python",
   "name": "python3"
  },
  "language_info": {
   "codemirror_mode": {
    "name": "ipython",
    "version": 3
   },
   "file_extension": ".py",
   "mimetype": "text/x-python",
   "name": "python",
   "nbconvert_exporter": "python",
   "pygments_lexer": "ipython3",
   "version": "3.9.12"
  },
  "vscode": {
   "interpreter": {
    "hash": "e6b65fc4380ac725e50a330b268a227bbdbe91bddfffbf68e5f7ce9848a2b8d5"
   }
  }
 },
 "nbformat": 4,
 "nbformat_minor": 2
}
